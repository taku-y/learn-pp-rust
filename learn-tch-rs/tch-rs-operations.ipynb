{
 "cells": [
  {
   "cell_type": "markdown",
   "metadata": {},
   "source": [
    "## Vector to Torch Tensor"
   ]
  },
  {
   "cell_type": "code",
   "execution_count": 3,
   "metadata": {},
   "outputs": [
    {
     "name": "stdout",
     "output_type": "stream",
     "text": [
      " 0\n",
      " 0\n",
      " 0\n",
      " 0\n",
      " 0\n",
      " 0\n",
      " 0\n",
      " 0\n",
      " 0\n",
      " 0\n",
      "[ Variable[CPUType]{10} ]\n"
     ]
    }
   ],
   "source": [
    ":dep tch = { path = \"../../tch-rs\" }\n",
    "\n",
    "extern crate tch;\n",
    "use tch::{Tensor};\n",
    "\n",
    "let xs = vec![0.0 as f32; 10];\n",
    "let ys = Tensor::of_slice(xs.as_slice());\n",
    "\n",
    "ys.print();"
   ]
  },
  {
   "cell_type": "markdown",
   "metadata": {},
   "source": [
    "## Torch Tensor to vector"
   ]
  },
  {
   "cell_type": "code",
   "execution_count": 6,
   "metadata": {},
   "outputs": [
    {
     "name": "stdout",
     "output_type": "stream",
     "text": [
      " 0  1  2  3  4\n",
      " 5  6  7  8  9\n",
      "[ Variable[CPUType]{2,5} ]\n",
      "[0.0, 0.0, 0.0, 0.0, 0.0, 0.0, 0.0, 0.0, 0.0, 0.0]\n",
      "[0.0, 1.0, 2.0, 3.0, 4.0, 5.0, 6.0, 7.0, 8.0, 9.0]\n"
     ]
    }
   ],
   "source": [
    ":dep tch = { path = \"../../tch-rs\" }\n",
    "\n",
    "extern crate tch;\n",
    "use tch::{Tensor, kind};\n",
    "\n",
    "let ys = Tensor::arange2(0.0, 10.0, 1.0, kind::FLOAT_CPU).reshape(&[2, 5]);\n",
    "ys.print();\n",
    "let mut zs = vec![0.0 as f32; 10];\n",
    "println!(\"{:?}\", &zs);\n",
    "ys.copy_data(zs.as_mut_slice(), 10);\n",
    "println!(\"{:?}\", &zs);"
   ]
  },
  {
   "cell_type": "code",
   "execution_count": 10,
   "metadata": {},
   "outputs": [
    {
     "name": "stdout",
     "output_type": "stream",
     "text": [
      "9\n"
     ]
    }
   ],
   "source": [
    ":dep tch = { path = \"../../tch-rs\" }\n",
    "\n",
    "extern crate tch;\n",
    "use tch::{Tensor, kind};\n",
    "\n",
    "let ys = Tensor::arange2(0.0, 10.0, 1.0, kind::FLOAT_CPU).reshape(&[2, 5]);\n",
    "let zs = ys.max().double_value(&[]);\n",
    "println!(\"{}\", zs);"
   ]
  },
  {
   "cell_type": "markdown",
   "metadata": {},
   "source": [
    "## Slice"
   ]
  },
  {
   "cell_type": "code",
   "execution_count": 2,
   "metadata": {},
   "outputs": [
    {
     "name": "stdout",
     "output_type": "stream",
     "text": [
      " 3\n",
      " 6\n",
      "[ Variable[CPUType]{2,1} ]\n",
      " 1  2\n",
      " 4  5\n",
      "[ Variable[CPUType]{2,2} ]\n"
     ]
    }
   ],
   "source": [
    ":dep tch = { path = \"../../tch-rs\" }\n",
    "\n",
    "extern crate tch;\n",
    "use tch::{Tensor};\n",
    "\n",
    "let xs = Tensor::of_slice(&[1.0 as f32, 2.0, 3.0, 4.0, 5.0, 6.0]).reshape(&[2, 3]);\n",
    "\n",
    "let thetas = xs.slice(1, 2, 3, 1);\n",
    "thetas.print();\n",
    "\n",
    "let xys = xs.slice(1, 0, 2, 1);\n",
    "xys.print();"
   ]
  },
  {
   "cell_type": "markdown",
   "metadata": {},
   "source": [
    "## Broadcast"
   ]
  },
  {
   "cell_type": "code",
   "execution_count": 3,
   "metadata": {},
   "outputs": [
    {
     "name": "stdout",
     "output_type": "stream",
     "text": [
      " 11  21\n",
      " 12  22\n",
      " 13  23\n",
      "[ Variable[CPUType]{3,2} ]\n"
     ]
    }
   ],
   "source": [
    ":dep tch = { path = \"../../tch-rs\" }\n",
    "\n",
    "extern crate tch;\n",
    "use tch::{Tensor};\n",
    "\n",
    "let x = Tensor::of_slice(&[1.0 as f32, 2.0, 3.0]).reshape(&[-1, 1]);\n",
    "let y = Tensor::of_slice(&[10.0 as f32, 20.0]).reshape(&[1, -1]);\n",
    "let z = x + \n",
    "y;\n",
    "z.print();"
   ]
  },
  {
   "cell_type": "markdown",
   "metadata": {},
   "source": [
    "## Stack"
   ]
  },
  {
   "cell_type": "code",
   "execution_count": 4,
   "metadata": {},
   "outputs": [
    {
     "name": "stdout",
     "output_type": "stream",
     "text": [
      "[2, 3, 2]\n",
      "(1,.,.) = \n",
      "  0.9950 -0.0998\n",
      "  1.0000  0.0000\n",
      "  0.5403  0.8415\n",
      "\n",
      "(2,.,.) = \n",
      "  0.9801 -0.1987\n",
      "  0.9950 -0.0998\n",
      "  1.0000  0.0000\n",
      "[ Variable[CPUType]{2,3,2} ]\n"
     ]
    }
   ],
   "source": [
    ":dep tch = { path = \"../../tch-rs\" }\n",
    "\n",
    "extern crate tch;\n",
    "use tch::{Tensor};\n",
    "\n",
    "let dirs = Tensor::of_slice(&[-0.1 as f32, 0.0, 1.0, -0.2, -0.1, 0.0]).reshape(&[2, 3]);\n",
    "let dxs = dirs.cos();\n",
    "let dys = dirs.sin();\n",
    "let dxys = Tensor::stack(&[dxs, dys], -1);\n",
    "println!(\"{:?}\", dxys.size());\n",
    "dxys.print();"
   ]
  },
  {
   "cell_type": "markdown",
   "metadata": {},
   "source": [
    "## Scalar"
   ]
  },
  {
   "cell_type": "code",
   "execution_count": 6,
   "metadata": {},
   "outputs": [
    {
     "name": "stdout",
     "output_type": "stream",
     "text": [
      "0.5\n"
     ]
    }
   ],
   "source": [
    ":dep tch = { path = \"../../tch-rs\" }\n",
    "\n",
    "extern crate tch;\n",
    "use tch::{Tensor, Scalar};\n",
    "\n",
    "let xs = Scalar::float(0.5);\n",
    "println!(\"{}\", xs.to_string().unwrap());"
   ]
  },
  {
   "cell_type": "markdown",
   "metadata": {},
   "source": [
    "## Compare"
   ]
  },
  {
   "cell_type": "code",
   "execution_count": 9,
   "metadata": {},
   "outputs": [
    {
     "name": "stdout",
     "output_type": "stream",
     "text": [
      " 0\n",
      " 0\n",
      " 0\n",
      " 1\n",
      " 1\n",
      " 1\n",
      "[ Variable[CPUType]{6} ]\n"
     ]
    }
   ],
   "source": [
    ":dep tch = { path = \"../../tch-rs\" }\n",
    "\n",
    "extern crate tch;\n",
    "use tch::{Tensor, Scalar};\n",
    "\n",
    "let xs = Tensor::of_slice(&[0.0 as f32, 0.0, 0.0, 1.0, 2.0, 3.0]);\n",
    "let ys = xs.gt(Scalar::float(0.5));\n",
    "ys.print();"
   ]
  },
  {
   "cell_type": "markdown",
   "metadata": {},
   "source": [
    "## nonzero (where)"
   ]
  },
  {
   "cell_type": "code",
   "execution_count": 10,
   "metadata": {},
   "outputs": [
    {
     "name": "stdout",
     "output_type": "stream",
     "text": [
      " 3\n",
      " 4\n",
      " 5\n",
      "[ Variable[CPUType]{3,1} ]\n"
     ]
    }
   ],
   "source": [
    ":dep tch = { path = \"../../tch-rs\" }\n",
    "\n",
    "extern crate tch;\n",
    "use tch::{Tensor, Scalar};\n",
    "\n",
    "let xs = Tensor::of_slice(&[0.0 as f32, 0.0, 0.0, 1.0, 2.0, 3.0]);\n",
    "let ys = xs.gt(Scalar::float(0.5)).nonzero();\n",
    "ys.print();"
   ]
  },
  {
   "cell_type": "code",
   "execution_count": 12,
   "metadata": {},
   "outputs": [
    {
     "name": "stdout",
     "output_type": "stream",
     "text": [
      " 0  3\n",
      " 0  4\n",
      " 0  5\n",
      " 1  2\n",
      " 1  4\n",
      "[ Variable[CPUType]{5,2} ]\n"
     ]
    }
   ],
   "source": [
    ":dep tch = { path = \"../../tch-rs\" }\n",
    "\n",
    "extern crate tch;\n",
    "use tch::{Tensor, Scalar};\n",
    "\n",
    "let xs = Tensor::of_slice(\n",
    "    &[0.0, 0.0, 0.0, 1.0, 2.0, 3.0, \n",
    "      0.0, 0.0, 1.0, 0.0, 4.0, 0.0 as f32]).reshape(&[2, 6]);\n",
    "let ys = xs.gt(Scalar::float(0.5)).nonzero();\n",
    "ys.print();"
   ]
  },
  {
   "cell_type": "code",
   "execution_count": 10,
   "metadata": {},
   "outputs": [
    {
     "name": "stdout",
     "output_type": "stream",
     "text": [
      "3\n",
      "[ Variable[CPUType]{} ]\n",
      "2\n",
      "[ Variable[CPUType]{} ]\n"
     ]
    }
   ],
   "source": [
    ":dep tch = { path = \"../../tch-rs\" }\n",
    "\n",
    "extern crate tch;\n",
    "use tch::{Tensor, Scalar};\n",
    "\n",
    "let xs = Tensor::of_slice(\n",
    "    &[0.0, 0.0, 0.0, 1.0, 2.0, 3.0, \n",
    "      0.0, 0.0, 1.0, 0.0, 4.0, 0.0 as f32]).reshape(&[2, 6]);\n",
    "\n",
    "for i in 0..2 {\n",
    "    let ys = xs.slice(0, i, i + 1, 1).squeeze();\n",
    "//     ys.print();\n",
    "    let zs = ys.ge(Scalar::float(0.5)).nonzero().min();\n",
    "    zs.print();\n",
    "};"
   ]
  },
  {
   "cell_type": "code",
   "execution_count": null,
   "metadata": {},
   "outputs": [],
   "source": []
  }
 ],
 "metadata": {
  "kernelspec": {
   "display_name": "Rust",
   "language": "rust",
   "name": "rust"
  },
  "language_info": {
   "codemirror_mode": "rust",
   "file_extension": ".rs",
   "mimetype": "text/rust",
   "name": "Rust",
   "pygment_lexer": "rust",
   "version": ""
  }
 },
 "nbformat": 4,
 "nbformat_minor": 2
}
