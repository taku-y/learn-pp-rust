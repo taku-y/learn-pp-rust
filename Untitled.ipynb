{
 "cells": [
  {
   "cell_type": "code",
   "execution_count": 3,
   "metadata": {},
   "outputs": [],
   "source": [
    "extern crate ndarray;"
   ]
  },
  {
   "cell_type": "code",
   "execution_count": 2,
   "metadata": {},
   "outputs": [
    {
     "name": "stdout",
     "output_type": "stream",
     "text": [
      "6.162042140960693\n",
      "6.148203372955322\n",
      "6.134436130523682\n",
      "6.120741844177246\n",
      "6.107122898101807\n",
      "6.093579292297363\n",
      "6.0801100730896\n",
      "6.066718101501465\n",
      "6.053401947021484\n",
      "6.040163993835449\n"
     ]
    }
   ],
   "source": [
    ":dep tch = { path = \"./tch-rs\" }\n",
    ":dep hello = { path = \"./learn-pp-rust/learn-tch-rs\" }\n",
    "extern crate hello;\n",
    "extern crate tch;\n",
    "use tch::{nn, Tensor, nn::OptimizerConfig, Device, nn::Init as Init};\n",
    "use hello::{Distribution};\n",
    "use hello::multivariate_normal::{MultivariateNormal, Scale};\n",
    "use hello::multivariate_normal::lower_cholesky_transform::transform;\n",
    "\n",
    "pub fn _gen_samples() -> Tensor {\n",
    "    let loc = Tensor::of_slice(&[1.0f32, 2.0]);\n",
    "    let scale = Tensor::of_slice(&[1.0f32, 0.0, -0.5, 2.0]).reshape(&[2, 2]);\n",
    "    let dist = MultivariateNormal::new(&loc, &Scale::ScaleTril(scale));\n",
    "    dist.rsample(&[5])\n",
    "}\n",
    "\n",
    "pub fn main() {\n",
    "    let xs = _gen_samples();\n",
    "    let vs = nn::VarStore::new(Device::Cpu);\n",
    "    let lc = &vs.root().var(\"loc\", &[2], Init::KaimingUniform);\n",
    "    let sc = &vs.root().var(\"scale\", &[2, 2], Init::KaimingUniform);\n",
    "    let opt = nn::Adam::default().build(&vs, 1e-3).unwrap();\n",
    "\n",
    "    for _i in 0..10 {\n",
    "        let p = MultivariateNormal::new(\n",
    "            lc, &Scale::ScaleTril(transform(&sc).shallow_clone())\n",
    "        );\n",
    "        let loss = -p.log_prob(&xs).mean();\n",
    "        println!(\"{}\", f64::from(&loss));\n",
    "        opt.backward_step(&loss);\n",
    "    }\n",
    "}\n",
    "\n",
    "main();"
   ]
  },
  {
   "cell_type": "code",
   "execution_count": 10,
   "metadata": {},
   "outputs": [
    {
     "name": "stdout",
     "output_type": "stream",
     "text": [
      "1, 4\n",
      "1, 5\n",
      "1, 6\n",
      "2, 4\n",
      "2, 5\n",
      "2, 6\n",
      "3, 4\n",
      "3, 5\n",
      "3, 6\n"
     ]
    },
    {
     "data": {
      "text/plain": [
       "()"
      ]
     },
     "execution_count": 10,
     "metadata": {},
     "output_type": "execute_result"
    }
   ],
   "source": [
    "let xs = vec![1, 2, 3];\n",
    "let ys = vec![4, 5, 6];\n",
    "for x in &xs {\n",
    "    for y in &ys {\n",
    "        println!(\"{}, {}\", x, y);\n",
    "    }\n",
    "}"
   ]
  },
  {
   "cell_type": "code",
   "execution_count": 40,
   "metadata": {},
   "outputs": [
    {
     "name": "stdout",
     "output_type": "stream",
     "text": [
      "[1.0, 4.0, 2.0, 4.0, 3.0, 4.0, 1.0, 5.0, 2.0, 5.0, 3.0, 5.0, 1.0, 6.0, 2.0, 6.0, 3.0, 6.0]\n"
     ]
    },
    {
     "data": {
      "text/plain": [
       "[[-3.0310242, -3.8122742, -5.6560245], [-3.6560242, -4.562274, -6.5310245], [-4.531024, -5.5622745, -7.6560245]]"
      ]
     },
     "execution_count": 40,
     "metadata": {},
     "output_type": "execute_result"
    }
   ],
   "source": [
    "pub fn log_prob_on_2d(d: &impl Distribution, xs: &[f32], ys: &[f32]) -> Vec<Vec<f32>> {\n",
    "    let mut xys = vec![];\n",
    "    let ny = ys.len() as i64;\n",
    "    let nx = xs.len() as i64;\n",
    "    \n",
    "    for y in ys {\n",
    "        for x in xs {\n",
    "            xys.push(*x);\n",
    "            xys.push(*y);\n",
    "        }\n",
    "    }\n",
    "    println!(\"{:?}\", &xys);\n",
    "    \n",
    "    let xys = Tensor::from(xys.as_slice()).reshape(&[-1, 2]);\n",
    "    let lps = d.log_prob(&xys).reshape(&[ny, nx]);\n",
    "    \n",
    "    Vec::<Vec<f32>>::from(&lps)\n",
    "}\n",
    "\n",
    "let loc = Tensor::of_slice(&[1.0f32, 2.0]);\n",
    "let scale = Tensor::of_slice(&[1.0f32, 0.0, -0.5, 2.0]).reshape(&[2, 2]);\n",
    "let dist = MultivariateNormal::new(&loc, &Scale::ScaleTril(scale));\n",
    "let vs = log_prob_2d(&dist, &vec![1 as f32, 2.0, 3.0], &vec![4 as f32, 5.0, 6.0]);\n",
    "vs"
   ]
  },
  {
   "cell_type": "code",
   "execution_count": 6,
   "metadata": {},
   "outputs": [],
   "source": [
    ":dep tch = { path = \"./tch-rs\" }\n",
    "extern crate tch;\n",
    "// use tch::{nn, Tensor}; //hello::multivariate_normal;\n",
    "// use hello::plotly_evcxr::setup_plotly;"
   ]
  },
  {
   "cell_type": "code",
   "execution_count": null,
   "metadata": {},
   "outputs": [],
   "source": [
    "extern crate tch;\n",
    "use tch::{nn, Tensor}; //hello::multivariate_normal;\n",
    "// use hello::plotly_evcxr::setup_plotly;"
   ]
  },
  {
   "cell_type": "code",
   "execution_count": null,
   "metadata": {},
   "outputs": [],
   "source": [
    "setup_plotly();"
   ]
  },
  {
   "cell_type": "code",
   "execution_count": null,
   "metadata": {},
   "outputs": [],
   "source": [
    "let mut html = String::new();\n",
    "html.push_str(r#\"\n",
    "<div id=\"tester\" style=\"width:600px;height:250px;\"></div>\n",
    "<script>\n",
    "require(['plotly'], function(plotly) {\n",
    "    console.log(plotly);  // or whatever\n",
    "    var tester = document.getElementById('tester');\n",
    "    plotly.plot( tester, [{\n",
    "    x: [1, 2, 3, 4, 5],\n",
    "    y: [1, 2, 4, 8, 16] }]);\n",
    "\n",
    "    return {};\n",
    "});\n",
    "</script>\n",
    "    \"#);\n",
    "println!(\"EVCXR_BEGIN_CONTENT text/html\\n{}\\nEVCXR_END_CONTENT\", html);"
   ]
  },
  {
   "cell_type": "code",
   "execution_count": null,
   "metadata": {},
   "outputs": [],
   "source": [
    "use std::fmt::Debug;\n",
    "pub struct Matrix<T> {pub values: Vec<T>, pub row_size: usize}\n",
    "impl<T: Debug> Matrix<T> {\n",
    "    pub fn evcxr_display(&self) {\n",
    "        let mut html = String::new();\n",
    "        html.push_str(\"<table>\");\n",
    "        for r in 0..(self.values.len() / self.row_size) {\n",
    "            html.push_str(\"<tr>\");\n",
    "            for c in 0..self.row_size {\n",
    "                html.push_str(\"<td>\");\n",
    "                html.push_str(&format!(\"{:?}\", self.values[r * self.row_size + c]));\n",
    "                html.push_str(\"</td>\");\n",
    "            }\n",
    "            html.push_str(\"</tr>\");            \n",
    "        }\n",
    "        html.push_str(\"</table>\");\n",
    "        println!(\"EVCXR_BEGIN_CONTENT text/html\\n{}\\nEVCXR_END_CONTENT\", html);\n",
    "    }\n",
    "}"
   ]
  },
  {
   "cell_type": "code",
   "execution_count": null,
   "metadata": {},
   "outputs": [],
   "source": [
    "let m = Matrix {values: vec![1,2,3,4,5,6,7,8,9], row_size: 3};\n",
    "m"
   ]
  },
  {
   "cell_type": "code",
   "execution_count": null,
   "metadata": {},
   "outputs": [],
   "source": [
    "let mut html = String::new();\n",
    "html.push_str(\"<table>\");\n",
    "html.push_str(\"<tr><td>1</td><td>2</td></tr>\");\n",
    "html.push_str(\"</table>\");\n",
    "println!(\"EVCXR_BEGIN_CONTENT text/html\\n{}\\nEVCXR_END_CONTENT\", html);"
   ]
  },
  {
   "cell_type": "code",
   "execution_count": null,
   "metadata": {},
   "outputs": [],
   "source": [
    "let mut html = String::new();\n",
    "html.push_str(r#\"\n",
    "<script src=\"https://cdn.plot.ly/plotly-latest.min.js\"></script>\n",
    "<div id=\"tester\" style=\"width:600px;height:250px;\"></div>    \n",
    "<script>\n",
    "    var tester = document.getElementById('tester');\n",
    "    Plotly.plot( tester, [{\n",
    "    x: [1, 2, 3, 4, 5],\n",
    "    y: [1, 2, 4, 8, 16] }]);\n",
    "</script>\n",
    "    \"#);\n",
    "println!(\"EVCXR_BEGIN_CONTENT text/html\\n{}\\nEVCXR_END_CONTENT\", html);"
   ]
  },
  {
   "cell_type": "code",
   "execution_count": 3,
   "metadata": {},
   "outputs": [
    {
     "data": {
      "text/html": [
       "<script>\n",
       "requirejs.config({\n",
       "    paths: { \n",
       "        'plotly': ['//cdnjs.cloudflare.com/ajax/libs/plotly.js/1.33.1/plotly-basic.min'], \n",
       "    },                                         // strip .js ^, require adds it back\n",
       "});\n",
       "</script>\n",
       "    <div id=\"tester\" style=\"width:600px;height:250px;\"></div>\n",
       "<script>\n",
       "require(['plotly'], function(plotly) {\n",
       "    console.log(plotly);  // or whatever\n",
       "    var tester = document.getElementById('tester');\n",
       "    plotly.plot( tester, [{\n",
       "    x: [1, 2, 3, 4, 5],\n",
       "    y: [1, 2, 4, 8, 16] }]);\n",
       "\n",
       "    return {};\n",
       "});\n",
       "</script>\n",
       "    "
      ]
     },
     "execution_count": 3,
     "metadata": {},
     "output_type": "execute_result"
    }
   ],
   "source": [
    "let mut html = String::new();\n",
    "html.push_str(r#\"\n",
    "<script>\n",
    "requirejs.config({\n",
    "    paths: { \n",
    "        'plotly': ['//cdnjs.cloudflare.com/ajax/libs/plotly.js/1.33.1/plotly-basic.min'], \n",
    "    },                                         // strip .js ^, require adds it back\n",
    "});\n",
    "</script>\n",
    "    <div id=\"tester\" style=\"width:600px;height:250px;\"></div>\n",
    "<script>\n",
    "require(['plotly'], function(plotly) {\n",
    "    console.log(plotly);  // or whatever\n",
    "    var tester = document.getElementById('tester');\n",
    "    plotly.plot( tester, [{\n",
    "    x: [1, 2, 3, 4, 5],\n",
    "    y: [1, 2, 4, 8, 16] }]);\n",
    "\n",
    "    return {};\n",
    "});\n",
    "</script>\n",
    "    \"#);\n",
    "println!(\"EVCXR_BEGIN_CONTENT text/html\\n{}\\nEVCXR_END_CONTENT\", html);"
   ]
  },
  {
   "cell_type": "code",
   "execution_count": null,
   "metadata": {},
   "outputs": [],
   "source": []
  }
 ],
 "metadata": {
  "kernelspec": {
   "display_name": "Rust",
   "language": "rust",
   "name": "rust"
  },
  "language_info": {
   "codemirror_mode": "rust",
   "file_extension": ".rs",
   "mimetype": "text/rust",
   "name": "Rust",
   "pygment_lexer": "rust",
   "version": ""
  }
 },
 "nbformat": 4,
 "nbformat_minor": 2
}
