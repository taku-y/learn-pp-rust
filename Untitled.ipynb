{
 "cells": [
  {
   "cell_type": "code",
   "execution_count": null,
   "metadata": {},
   "outputs": [],
   "source": [
    "use std::fmt::Debug;\n",
    "pub struct Matrix<T> {pub values: Vec<T>, pub row_size: usize}\n",
    "impl<T: Debug> Matrix<T> {\n",
    "    pub fn evcxr_display(&self) {\n",
    "        let mut html = String::new();\n",
    "        html.push_str(\"<table>\");\n",
    "        for r in 0..(self.values.len() / self.row_size) {\n",
    "            html.push_str(\"<tr>\");\n",
    "            for c in 0..self.row_size {\n",
    "                html.push_str(\"<td>\");\n",
    "                html.push_str(&format!(\"{:?}\", self.values[r * self.row_size + c]));\n",
    "                html.push_str(\"</td>\");\n",
    "            }\n",
    "            html.push_str(\"</tr>\");            \n",
    "        }\n",
    "        html.push_str(\"</table>\");\n",
    "        println!(\"EVCXR_BEGIN_CONTENT text/html\\n{}\\nEVCXR_END_CONTENT\", html);\n",
    "    }\n",
    "}"
   ]
  },
  {
   "cell_type": "code",
   "execution_count": null,
   "metadata": {},
   "outputs": [],
   "source": [
    "let m = Matrix {values: vec![1,2,3,4,5,6,7,8,9], row_size: 3};\n",
    "m"
   ]
  },
  {
   "cell_type": "code",
   "execution_count": null,
   "metadata": {},
   "outputs": [],
   "source": [
    "let mut html = String::new();\n",
    "html.push_str(\"<table>\");\n",
    "html.push_str(\"<tr><td>1</td><td>2</td></tr>\");\n",
    "html.push_str(\"</table>\");\n",
    "println!(\"EVCXR_BEGIN_CONTENT text/html\\n{}\\nEVCXR_END_CONTENT\", html);"
   ]
  },
  {
   "cell_type": "code",
   "execution_count": null,
   "metadata": {},
   "outputs": [],
   "source": [
    "let mut html = String::new();\n",
    "html.push_str(r#\"\n",
    "<script src=\"https://cdn.plot.ly/plotly-latest.min.js\"></script>\n",
    "<div id=\"tester\" style=\"width:600px;height:250px;\"></div>    \n",
    "<script>\n",
    "    var tester = document.getElementById('tester');\n",
    "    Plotly.plot( tester, [{\n",
    "    x: [1, 2, 3, 4, 5],\n",
    "    y: [1, 2, 4, 8, 16] }]);\n",
    "</script>\n",
    "    \"#);\n",
    "println!(\"EVCXR_BEGIN_CONTENT text/html\\n{}\\nEVCXR_END_CONTENT\", html);"
   ]
  },
  {
   "cell_type": "code",
   "execution_count": 7,
   "metadata": {},
   "outputs": [
    {
     "data": {
      "text/html": [
       "<script>\n",
       "requirejs.config({\n",
       "    paths: { \n",
       "        'plotly': ['//cdnjs.cloudflare.com/ajax/libs/plotly.js/1.33.1/plotly-basic.min'], \n",
       "    },                                         // strip .js ^, require adds it back\n",
       "});\n",
       "</script>\n",
       "    <div id=\"tester\" style=\"width:600px;height:250px;\"></div>\n",
       "<script>\n",
       "require(['plotly'], function(plotly) {\n",
       "    console.log(plotly);  // or whatever\n",
       "    var tester = document.getElementById('tester');\n",
       "    plotly.plot( tester, [{\n",
       "    x: [1, 2, 3, 4, 5],\n",
       "    y: [1, 2, 4, 8, 16] }]);\n",
       "\n",
       "    return {};\n",
       "});\n",
       "</script>\n",
       "    "
      ]
     },
     "execution_count": 7,
     "metadata": {},
     "output_type": "execute_result"
    }
   ],
   "source": [
    "let mut html = String::new();\n",
    "html.push_str(r#\"\n",
    "<script>\n",
    "requirejs.config({\n",
    "    paths: { \n",
    "        'plotly': ['//cdnjs.cloudflare.com/ajax/libs/plotly.js/1.33.1/plotly-basic.min'], \n",
    "    },                                         // strip .js ^, require adds it back\n",
    "});\n",
    "</script>\n",
    "    <div id=\"tester\" style=\"width:600px;height:250px;\"></div>\n",
    "<script>\n",
    "require(['plotly'], function(plotly) {\n",
    "    console.log(plotly);  // or whatever\n",
    "    var tester = document.getElementById('tester');\n",
    "    plotly.plot( tester, [{\n",
    "    x: [1, 2, 3, 4, 5],\n",
    "    y: [1, 2, 4, 8, 16] }]);\n",
    "\n",
    "    return {};\n",
    "});\n",
    "</script>\n",
    "    \"#);\n",
    "println!(\"EVCXR_BEGIN_CONTENT text/html\\n{}\\nEVCXR_END_CONTENT\", html);"
   ]
  },
  {
   "cell_type": "code",
   "execution_count": null,
   "metadata": {},
   "outputs": [],
   "source": []
  }
 ],
 "metadata": {
  "kernelspec": {
   "display_name": "Rust",
   "language": "rust",
   "name": "rust"
  },
  "language_info": {
   "codemirror_mode": "rust",
   "file_extension": ".rs",
   "mimetype": "text/rust",
   "name": "Rust",
   "pygment_lexer": "rust",
   "version": ""
  }
 },
 "nbformat": 4,
 "nbformat_minor": 2
}
