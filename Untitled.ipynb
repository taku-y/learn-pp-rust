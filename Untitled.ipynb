{
 "cells": [
  {
   "cell_type": "code",
   "execution_count": null,
   "metadata": {},
   "outputs": [],
   "source": [
    ":dep tch = { path = \"../tch-rs\" }\n",
    ":dep hello = { path = \"./learn-tch-rs\" }\n",
    "\n",
    "extern crate tch;\n",
    "extern crate ndarray;\n",
    "#[macro_use] extern crate hello;\n",
    "\n",
    "pub use hello::plotly_evcxr::{PlotlyData, plotly_plot};\n",
    "pub use hello::plotly_evcxr::Value::{A1, A2, S};\n",
    "pub use ndarray::Array;"
   ]
  },
  {
   "cell_type": "code",
   "execution_count": null,
   "metadata": {},
   "outputs": [],
   "source": [
    "let z = Array::linspace(0., 8., 9).into_shape((3, 3)).unwrap();\n",
    "let data = plydata!{\n",
    "    \"z\"    => A2(z),\n",
    "    \"type\" => S(\"'heatmap'\".into())\n",
    "};\n",
    "plotly_plot(&data);"
   ]
  },
  {
   "cell_type": "code",
   "execution_count": null,
   "metadata": {
    "scrolled": false
   },
   "outputs": [],
   "source": [
    "extern crate tch;\n",
    "\n",
    "use tch::{nn, Tensor, nn::OptimizerConfig, Device, nn::Init as Init};\n",
    "use hello::{Distribution, log_prob_2d};\n",
    "use hello::multivariate_normal::{MultivariateNormal, Scale};\n",
    "use hello::multivariate_normal::lower_cholesky_transform::transform;\n",
    "\n",
    "let loc = Tensor::of_slice(&[1.0f32, 2.0]);\n",
    "let scale = Tensor::of_slice(&[1.0f32, 0.0, -0.5, 2.0]).reshape(&[2, 2]);\n",
    "let dist = MultivariateNormal::new(&loc, &Scale::ScaleTril(scale));\n",
    "let xs = Array::linspace(-10.0 as f32, 10.0, 30);\n",
    "let ys = Array::linspace(-10.0 as f32, 10.0, 30);\n",
    "let vs = log_prob_2d(&dist, xs.to_vec().as_slice(), ys.to_vec().as_slice());\n",
    "\n",
    "let data = plydata!{\n",
    "    \"x\"           => A1(xs),\n",
    "    \"y\"           => A1(ys),\n",
    "    \"z\"           => A2(Array::from_vec(vs).into_shape((30, 30)).unwrap()),\n",
    "    \"type\"        => S(\"'contour'\".into()),\n",
    "    \"colorscale\"  => S(\"'Jet'\".into()),\n",
    "    \"autocontour\" => S(\"'false'\".into()),\n",
    "    \"contours\"    => S(\"{ start: -100, end: 0, size: 5 }\".into())\n",
    "};\n",
    "\n",
    "plotly_plot(&data);"
   ]
  },
  {
   "cell_type": "code",
   "execution_count": null,
   "metadata": {},
   "outputs": [],
   "source": []
  }
 ],
 "metadata": {
  "kernelspec": {
   "display_name": "Rust",
   "language": "rust",
   "name": "rust"
  },
  "language_info": {
   "codemirror_mode": "rust",
   "file_extension": ".rs",
   "mimetype": "text/rust",
   "name": "Rust",
   "pygment_lexer": "rust",
   "version": ""
  }
 },
 "nbformat": 4,
 "nbformat_minor": 2
}
